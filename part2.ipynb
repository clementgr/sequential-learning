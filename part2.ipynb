{
  "nbformat": 4,
  "nbformat_minor": 0,
  "metadata": {
    "kernelspec": {
      "display_name": "Python 3",
      "language": "python",
      "name": "python3"
    },
    "language_info": {
      "codemirror_mode": {
        "name": "ipython",
        "version": 3
      },
      "file_extension": ".py",
      "mimetype": "text/x-python",
      "name": "python",
      "nbconvert_exporter": "python",
      "pygments_lexer": "ipython3",
      "version": "3.7.4"
    },
    "colab": {
      "name": "part2.ipynb",
      "provenance": [],
      "collapsed_sections": [],
      "toc_visible": true
    }
  },
  "cells": [
    {
      "cell_type": "markdown",
      "metadata": {
        "id": "ocstL3kAp22M"
      },
      "source": [
        "<center>\n",
        "<h2>\n",
        "Part 2. Bernoulli Bandits\n",
        "</h2>\n",
        "</center>"
      ]
    },
    {
      "cell_type": "code",
      "metadata": {
        "id": "ysUDAcNhp22Z"
      },
      "source": [
        "import numpy as np\n",
        "import matplotlib.pyplot as plt\n",
        "\n",
        "from bandits import BernoulliBandit\n",
        "from algorithms import FTL, UCB, UCB_V, kl_UCB\n",
        "from visualization import *"
      ],
      "execution_count": null,
      "outputs": []
    },
    {
      "cell_type": "markdown",
      "metadata": {
        "id": "iQu8eZgGp227"
      },
      "source": [
        "Question 1a"
      ]
    },
    {
      "cell_type": "markdown",
      "metadata": {
        "id": "b0oVgjE8U7vi"
      },
      "source": [
        "see `report.pdf`"
      ]
    },
    {
      "cell_type": "markdown",
      "metadata": {
        "id": "uQQukClOp228"
      },
      "source": [
        "Question 1b"
      ]
    },
    {
      "cell_type": "markdown",
      "metadata": {
        "id": "8iwzep4bU2eq"
      },
      "source": [
        "see `algorithms.py`"
      ]
    },
    {
      "cell_type": "markdown",
      "metadata": {
        "id": "tYALrDujp228"
      },
      "source": [
        "Question 1c"
      ]
    },
    {
      "cell_type": "code",
      "metadata": {
        "id": "m8WZkVQpp228"
      },
      "source": [
        "K = 2\n",
        "T = 1000\n",
        "n = 1000\n",
        "probs = [0.5, 0.6]\n",
        "\n",
        "bern_bandit = BernoulliBandit(K, probs)\n",
        "ftl = FTL(bern_bandit)"
      ],
      "execution_count": null,
      "outputs": []
    },
    {
      "cell_type": "code",
      "metadata": {
        "scrolled": true,
        "colab": {
          "base_uri": "https://localhost:8080/"
        },
        "id": "4f9Y5Xwhp228",
        "outputId": "00decf44-a66f-4fd0-93fe-6927cc357437"
      },
      "source": [
        "ftl_regrets = []\n",
        "ftl_cum_regrets = np.zeros((n,T))\n",
        "for i in range(n):\n",
        "    ftl.reset()\n",
        "    ftl.run(T, n_run=i, ntot_run=n)\n",
        "    ftl_regrets.append(ftl.regret)\n",
        "    ftl_cum_regrets[i] = ftl.cum_regret"
      ],
      "execution_count": null,
      "outputs": [
        {
          "output_type": "stream",
          "text": [
            "run 1000/1000 | running step 1000/1000"
          ],
          "name": "stdout"
        }
      ]
    },
    {
      "cell_type": "code",
      "metadata": {
        "id": "cn6QVccbp23p"
      },
      "source": [
        "plot_regret_hist(ftl_regrets, save_fig=True, algo='FTL')"
      ],
      "execution_count": null,
      "outputs": []
    },
    {
      "cell_type": "markdown",
      "metadata": {
        "id": "kG7feT-0p23q"
      },
      "source": [
        "either suffers a null regret as the first pull of the each arm gave 1 for the best arm and 0 for the worse.<br>\n",
        "or suffers a high regret (0.1 * 100 = 10) as the first pull of the each arm gave 0 for the best arm and 1 for the worse: keeps pulling the worse arm whose $\\mu$ estimates will always be bigger than 0."
      ]
    },
    {
      "cell_type": "markdown",
      "metadata": {
        "id": "AGocP3Eyp23r"
      },
      "source": [
        "Question 1d"
      ]
    },
    {
      "cell_type": "code",
      "metadata": {
        "id": "J5PiLjL5p23r"
      },
      "source": [
        "plot_mean_regret(ftl_cum_regrets, alpha=0.05, save_fig=True, title='Average cumulative regret over time', algo='FTL')"
      ],
      "execution_count": null,
      "outputs": []
    },
    {
      "cell_type": "markdown",
      "metadata": {
        "id": "806UZVQ_p23s"
      },
      "source": [
        "we see the linear dependance in time as a mean of the 2 edges cases we talked about in the previous question (new slope is $\\frac{0 + \\alpha}{2}$)"
      ]
    },
    {
      "cell_type": "markdown",
      "metadata": {
        "id": "8NK3ugcdp23s"
      },
      "source": [
        "FTL is **not** a good algorithm for stochastic bandits because of the previoulsy higlighted linear dependance in T"
      ]
    },
    {
      "cell_type": "markdown",
      "metadata": {
        "id": "zc7sH-hxp23s"
      },
      "source": [
        "Question 2a to 2e"
      ]
    },
    {
      "cell_type": "markdown",
      "metadata": {
        "id": "qqrluXcyVKR1"
      },
      "source": [
        "see `report.pdf`"
      ]
    },
    {
      "cell_type": "markdown",
      "metadata": {
        "id": "30gf3xytp23t"
      },
      "source": [
        "Question 2f"
      ]
    },
    {
      "cell_type": "markdown",
      "metadata": {
        "id": "A7RP6BuEUj5J"
      },
      "source": [
        "see `algorithms.py`"
      ]
    },
    {
      "cell_type": "markdown",
      "metadata": {
        "id": "t16WL1Q1p23t"
      },
      "source": [
        "Question 2g"
      ]
    },
    {
      "cell_type": "code",
      "metadata": {
        "id": "S3Kv7qMfp23u"
      },
      "source": [
        "K = 2\n",
        "T = 1000\n",
        "n = 1000\n",
        "probs = [0.5, 0.6]\n",
        "sigma_square = 1./4\n",
        "\n",
        "bern_bandit = BernoulliBandit(K, probs)\n",
        "ucb = UCB(bern_bandit, sigma_square)"
      ],
      "execution_count": null,
      "outputs": []
    },
    {
      "cell_type": "code",
      "metadata": {
        "colab": {
          "base_uri": "https://localhost:8080/"
        },
        "id": "FKFVRDBhp23u",
        "outputId": "416ad815-4b99-4d61-8c9c-a7c261d1f518"
      },
      "source": [
        "ucb_regrets = []\n",
        "ucb_cum_regrets = np.zeros((n,T))\n",
        "for i in range(n):\n",
        "    ucb.reset()\n",
        "    ucb.run(T, n_run=i, ntot_run=n)\n",
        "    ucb_regrets.append(ucb.regret)\n",
        "    ucb_cum_regrets[i] = ucb.cum_regret"
      ],
      "execution_count": null,
      "outputs": [
        {
          "output_type": "stream",
          "text": [
            "run 1000/1000 | running step 1000/1000"
          ],
          "name": "stdout"
        }
      ]
    },
    {
      "cell_type": "code",
      "metadata": {
        "id": "oAywQ4myp24M"
      },
      "source": [
        "plot_mean_regret(ucb_cum_regrets, alpha=0.01, save_fig=True, save_name='p2_2g', title='Average cumulative regret over time', algo='UCB')"
      ],
      "execution_count": null,
      "outputs": []
    },
    {
      "cell_type": "code",
      "metadata": {
        "id": "xJSQHpQAp24N"
      },
      "source": [
        "regret_dict = {\n",
        "    'FTL': [ftl_cum_regrets, '#53B3CD'],\n",
        "    'UCB': [ucb_cum_regrets, '#3A6FB6']\n",
        "}"
      ],
      "execution_count": null,
      "outputs": []
    },
    {
      "cell_type": "code",
      "metadata": {
        "id": "N-KNCqTMp24N"
      },
      "source": [
        "title = 'Average cumulative regret over time ($p_1 = 0.5, p_2 = 0.6$)'\n",
        "plot_multiple_avg_regrets(regret_dict, save_fig=True, title=title)"
      ],
      "execution_count": null,
      "outputs": []
    },
    {
      "cell_type": "markdown",
      "metadata": {
        "id": "C8Hykbyep24N"
      },
      "source": [
        "Question 2h"
      ]
    },
    {
      "cell_type": "code",
      "metadata": {
        "id": "6jKH9fGlp24N"
      },
      "source": [
        "K = 2\n",
        "T = 1000\n",
        "n = 1000\n",
        "sigma_squares = [0, 1./32, 1./16, 1./4, 1.]"
      ],
      "execution_count": null,
      "outputs": []
    },
    {
      "cell_type": "code",
      "metadata": {
        "id": "J_HWMVPSp24N"
      },
      "source": [
        "probs_1 = [0.6, 0.5]\n",
        "bern_bandit_1 = BernoulliBandit(K, probs_1)"
      ],
      "execution_count": null,
      "outputs": []
    },
    {
      "cell_type": "code",
      "metadata": {
        "colab": {
          "base_uri": "https://localhost:8080/"
        },
        "id": "oUGL7YiYp24O",
        "outputId": "ce1e69b1-8ca3-45f9-f94f-a59797e5bc73"
      },
      "source": [
        "m = len(sigma_squares)\n",
        "ucb1_sigma_regrets = np.zeros((n,m))\n",
        "for j, sigma_square in enumerate(sigma_squares):\n",
        "    print(f'sigma: {j+1}/{m}')\n",
        "    ucb1 = UCB(bern_bandit, sigma_square)\n",
        "    for i in range(n):\n",
        "        ucb1.reset()\n",
        "        ucb1.run(T, n_run=i, ntot_run=n)\n",
        "        ucb1_sigma_regrets[i,j] = ucb1.regret\n",
        "    print()"
      ],
      "execution_count": null,
      "outputs": [
        {
          "output_type": "stream",
          "text": [
            "sigma: 1/5\n",
            "run 1000/1000 | running step 1000/1000\n",
            "sigma: 2/5\n",
            "run 1000/1000 | running step 1000/1000\n",
            "sigma: 3/5\n",
            "run 1000/1000 | running step 1000/1000\n",
            "sigma: 4/5\n",
            "run 1000/1000 | running step 1000/1000\n",
            "sigma: 5/5\n",
            "run 1000/1000 | running step 1000/1000\n"
          ],
          "name": "stdout"
        }
      ]
    },
    {
      "cell_type": "code",
      "metadata": {
        "id": "3swJdwQswQgc"
      },
      "source": [
        "title = 'Average regret of UCB($\\sigma^2$) as a function of $\\sigma$ ($p_1 = 0.6, p_2 = 0.5$)'\n",
        "plot_final_regret_sigma_square(ucb1_regrets, sigma_squares, save_fig=True, save_name='p2_2h_1', title=title)"
      ],
      "execution_count": null,
      "outputs": []
    },
    {
      "cell_type": "code",
      "metadata": {
        "id": "LNjGIIK4p26d"
      },
      "source": [
        "probs_2 = [0.85, 0.95]\n",
        "bern_bandit_2 = BernoulliBandit(K, probs_2)"
      ],
      "execution_count": null,
      "outputs": []
    },
    {
      "cell_type": "code",
      "metadata": {
        "colab": {
          "base_uri": "https://localhost:8080/"
        },
        "id": "0Xhi5AnHp26d",
        "outputId": "3825357e-27fe-45aa-d6ae-63595c556e6a"
      },
      "source": [
        "m = len(sigma_squares)\n",
        "ucb2_sigma_regrets = np.zeros((n,m))\n",
        "for j, sigma_square in enumerate(sigma_squares):\n",
        "    print(f'sigma: {j+1}/{m}')\n",
        "    ucb2 = UCB(bern_bandit_2, sigma_square)\n",
        "    for i in range(n):\n",
        "        ucb2.reset()\n",
        "        ucb2.run(T, n_run=i, ntot_run=n)\n",
        "        ucb2_sigma_regrets[i,j] = ucb2.regret\n",
        "    print()"
      ],
      "execution_count": null,
      "outputs": [
        {
          "output_type": "stream",
          "text": [
            "sigma: 1/5\n",
            "run 1000/1000 | running step 1000/1000\n",
            "sigma: 2/5\n",
            "run 1000/1000 | running step 1000/1000\n",
            "sigma: 3/5\n",
            "run 1000/1000 | running step 1000/1000\n",
            "sigma: 4/5\n",
            "run 1000/1000 | running step 1000/1000\n",
            "sigma: 5/5\n",
            "run 1000/1000 | running step 1000/1000\n"
          ],
          "name": "stdout"
        }
      ]
    },
    {
      "cell_type": "code",
      "metadata": {
        "id": "z5rfvjHN0S5z"
      },
      "source": [
        "title = 'Average regret of UCB($\\sigma$) as a function of $\\sigma$ ($p_1 = 0.85, p_2 = 0.95$)'\n",
        "plot_final_regret_sigma_square(ucb2_sigma_regrets, sigma_squares, save_fig=True, save_name='p2_2h_2', title=title)"
      ],
      "execution_count": null,
      "outputs": []
    },
    {
      "cell_type": "markdown",
      "metadata": {
        "id": "E6oGhm7ep26d"
      },
      "source": [
        "Question 3"
      ]
    },
    {
      "cell_type": "code",
      "metadata": {
        "id": "i_IVyUANBEv0"
      },
      "source": [
        "from utils import bernoulli_var, sub_gaussian_sigma\n",
        "\n",
        "p_val = np.arange(0, 1.001, 0.001)\n",
        "\n",
        "plt.figure(figsize=(10,5))\n",
        "plt.plot(p_val, [bernoulli_var(p) for p in p_val], color='#FFC300', label='$\\mathcal{B}(p)$ variance')\n",
        "plt.plot(p_val, [sub_gaussian_sigma(p) for p in p_val], color='#FF5733', label='sub-Gaussian $\\sigma^2(p)$')\n",
        "plt.xlabel(f'$p$')\n",
        "plt.ylabel(f'variance')\n",
        "plt.title(f'Variance quantities as a function of $p$')\n",
        "plt.legend()\n",
        "plt.savefig(f'p2_3.pdf')\n",
        "plt.show()"
      ],
      "execution_count": null,
      "outputs": []
    },
    {
      "cell_type": "markdown",
      "metadata": {
        "id": "kFNkEz2Gp26d"
      },
      "source": [
        "Question 5a & 5b"
      ]
    },
    {
      "cell_type": "markdown",
      "metadata": {
        "id": "dEtTnPReVtpk"
      },
      "source": [
        "see `report.pdf`"
      ]
    },
    {
      "cell_type": "markdown",
      "metadata": {
        "id": "AGKRolu6p26e"
      },
      "source": [
        "Question 5c"
      ]
    },
    {
      "cell_type": "markdown",
      "metadata": {
        "id": "lRa_DKl5UvF4"
      },
      "source": [
        "see `algorithms.py`"
      ]
    },
    {
      "cell_type": "markdown",
      "metadata": {
        "id": "uNRiYyesp26e"
      },
      "source": [
        "Question 5d"
      ]
    },
    {
      "cell_type": "code",
      "metadata": {
        "id": "Y3gIa3pQp26e"
      },
      "source": [
        "K = 2\n",
        "T = 1000\n",
        "n = 1000\n",
        "probs = [0.5, 0.6]\n",
        "sigma_square = 1./4\n",
        "b = 1\n",
        "ksi = 1.2\n",
        "c = 1\n",
        "\n",
        "bern_bandit = BernoulliBandit(K, probs)\n",
        "ucb = UCB(bern_bandit, sigma_square)\n",
        "ucb_v = UCB_V(bern_bandit, b, ksi, c)"
      ],
      "execution_count": null,
      "outputs": []
    },
    {
      "cell_type": "code",
      "metadata": {
        "colab": {
          "base_uri": "https://localhost:8080/"
        },
        "id": "uoct69AAp26e",
        "outputId": "3973aebe-5c74-405a-cfb0-12847c5d5652"
      },
      "source": [
        "ucb_regrets = []\n",
        "ucb_cum_regrets = np.zeros((n,T))\n",
        "for i in range(n):\n",
        "    ucb.reset()\n",
        "    ucb.run(T, n_run=i, ntot_run=n)\n",
        "    ucb_regrets.append(ucb.regret)\n",
        "    ucb_cum_regrets[i] = ucb.cum_regret"
      ],
      "execution_count": null,
      "outputs": [
        {
          "output_type": "stream",
          "text": [
            "run 1000/1000 | running step 1000/1000"
          ],
          "name": "stdout"
        }
      ]
    },
    {
      "cell_type": "code",
      "metadata": {
        "colab": {
          "base_uri": "https://localhost:8080/"
        },
        "id": "5m_EoTC6p26e",
        "outputId": "a8d169e3-ade9-4d86-a8da-f66325894756"
      },
      "source": [
        "ucb_v_regrets = []\n",
        "ucb_v_cum_regrets = np.zeros((n,T))\n",
        "for i in range(n):\n",
        "    ucb_v.reset()\n",
        "    ucb_v.run(T, n_run=i, ntot_run=n)\n",
        "    ucb_v_regrets.append(ucb_v.regret)\n",
        "    ucb_v_cum_regrets[i] = ucb_v.cum_regret"
      ],
      "execution_count": null,
      "outputs": [
        {
          "output_type": "stream",
          "text": [
            "run 1000/1000 | running step 1000/1000"
          ],
          "name": "stdout"
        }
      ]
    },
    {
      "cell_type": "code",
      "metadata": {
        "id": "BJkJAWN3p27B"
      },
      "source": [
        "regret_dict = {\n",
        "    'UCB': [ucb_cum_regrets, '#3A6FB6'],\n",
        "    'UCB-V': [ucb_v_cum_regrets, '#413AD0'],\n",
        "}"
      ],
      "execution_count": null,
      "outputs": []
    },
    {
      "cell_type": "code",
      "metadata": {
        "id": "iDXMnOvup27B"
      },
      "source": [
        "title = 'Average cumulative regret over time ($p_1 = 0.5, p_2 = 0.6$)'\n",
        "plot_multiple_avg_regrets(regret_dict, save_fig=True, save_name='p2_5d', title=title)"
      ],
      "execution_count": null,
      "outputs": []
    },
    {
      "cell_type": "markdown",
      "metadata": {
        "id": "Yb8iaurup27B"
      },
      "source": [
        "Question 5e"
      ]
    },
    {
      "cell_type": "code",
      "metadata": {
        "id": "wbCDsfAjp27C"
      },
      "source": [
        "probs1 = [0.1, 0.2]\n",
        "bern_bandit1 = BernoulliBandit(K, probs1)\n",
        "ucb1 = UCB(bern_bandit1, sigma_square)\n",
        "ucb_v1 = UCB_V(bern_bandit1, b, ksi, c)"
      ],
      "execution_count": null,
      "outputs": []
    },
    {
      "cell_type": "code",
      "metadata": {
        "colab": {
          "base_uri": "https://localhost:8080/"
        },
        "id": "zmCVCME9p27C",
        "outputId": "9af55f9d-5a64-4b31-dc2e-cec694fdeb20"
      },
      "source": [
        "ucb1_regrets = []\n",
        "ucb1_cum_regrets = np.zeros((n,T))\n",
        "for i in range(n):\n",
        "    ucb1.reset()\n",
        "    ucb1.run(T)\n",
        "    ucb1_regrets.append(ucb1.regret)\n",
        "    ucb1_cum_regrets[i] = ucb1.cum_regret"
      ],
      "execution_count": null,
      "outputs": [
        {
          "output_type": "stream",
          "text": [
            "running step 1000/1000"
          ],
          "name": "stdout"
        }
      ]
    },
    {
      "cell_type": "code",
      "metadata": {
        "colab": {
          "base_uri": "https://localhost:8080/"
        },
        "id": "gT_jm88qp27C",
        "outputId": "faad61ce-f44c-4081-9926-06d66800d40c"
      },
      "source": [
        "ucb_v1_regrets = []\n",
        "ucb_v1_cum_regrets = np.zeros((n,T))\n",
        "for i in range(n):\n",
        "    ucb_v1.reset()\n",
        "    ucb_v1.run(T, n_run=i, ntot_run=n)\n",
        "    ucb_v1_regrets.append(ucb_v1.regret)\n",
        "    ucb_v1_cum_regrets[i] = ucb_v1.cum_regret"
      ],
      "execution_count": null,
      "outputs": [
        {
          "output_type": "stream",
          "text": [
            "run 1000/1000 | running step 1000/1000"
          ],
          "name": "stdout"
        }
      ]
    },
    {
      "cell_type": "code",
      "metadata": {
        "id": "WOkw7cVmp27Y"
      },
      "source": [
        "regret_dict1 = {\n",
        "    'UCB': [ucb1_cum_regrets, '#3A6FB6'],\n",
        "    'UCB-V': [ucb_v1_cum_regrets, '#413AD0'],\n",
        "}"
      ],
      "execution_count": null,
      "outputs": []
    },
    {
      "cell_type": "code",
      "metadata": {
        "id": "7MCbyNAJp27Y"
      },
      "source": [
        "title = 'Average cumulative regret over time ($p_1 = 0.1, p_2 = 0.2$)'\n",
        "plot_multiple_avg_regrets(regret_dict1, save_fig=True, save_name='p2_5e_1', title=title)"
      ],
      "execution_count": null,
      "outputs": []
    },
    {
      "cell_type": "code",
      "metadata": {
        "id": "FSXQtl0gp27Y"
      },
      "source": [
        "probs2 = [0.0, 0.1]\n",
        "bern_bandit2 = BernoulliBandit(K, probs2)\n",
        "ucb2 = UCB(bern_bandit2, sigma_square)\n",
        "ucb_v2 = UCB_V(bern_bandit2, b, ksi, c)"
      ],
      "execution_count": null,
      "outputs": []
    },
    {
      "cell_type": "code",
      "metadata": {
        "colab": {
          "base_uri": "https://localhost:8080/"
        },
        "id": "XvHWm_oGp27Y",
        "outputId": "e0ff0701-fa49-4234-a4ce-848f00542788"
      },
      "source": [
        "ucb2_regrets = []\n",
        "ucb2_cum_regrets = np.zeros((n,T))\n",
        "for i in range(n):\n",
        "    ucb2.reset()\n",
        "    ucb2.run(T, n_run=i, ntot_run=n)\n",
        "    ucb2_regrets.append(ucb2.regret)\n",
        "    ucb2_cum_regrets[i] = ucb2.cum_regret"
      ],
      "execution_count": null,
      "outputs": [
        {
          "output_type": "stream",
          "text": [
            "run 1000/1000 | running step 1000/1000"
          ],
          "name": "stdout"
        }
      ]
    },
    {
      "cell_type": "code",
      "metadata": {
        "colab": {
          "base_uri": "https://localhost:8080/"
        },
        "id": "hpFyfg54p27Y",
        "outputId": "30955232-2043-4cfb-a759-1f7ef3ada783"
      },
      "source": [
        "ucb_v2_regrets = []\n",
        "ucb_v2_cum_regrets = np.zeros((n,T))\n",
        "for i in range(n):\n",
        "    ucb_v2.reset()\n",
        "    ucb_v2.run(T, n_run=i, ntot_run=n)\n",
        "    ucb_v2_regrets.append(ucb_v2.regret)\n",
        "    ucb_v2_cum_regrets[i] = ucb_v2.cum_regret"
      ],
      "execution_count": null,
      "outputs": [
        {
          "output_type": "stream",
          "text": [
            "run 1000/1000 | running step 1000/1000"
          ],
          "name": "stdout"
        }
      ]
    },
    {
      "cell_type": "code",
      "metadata": {
        "id": "rPMrfrVHp27Y"
      },
      "source": [
        "regret_dict2 = {\n",
        "    'UCB': [ucb2_cum_regrets, '#3A6FB6'],\n",
        "    'UCB-V': [ucb_v2_cum_regrets, '#413AD0'],\n",
        "}"
      ],
      "execution_count": null,
      "outputs": []
    },
    {
      "cell_type": "code",
      "metadata": {
        "id": "k0HgRmvRp27Z"
      },
      "source": [
        "title = 'Average cumulative regret over time ($p_1 = 0, p_2 = 0.1$)'\n",
        "plot_multiple_avg_regrets(regret_dict2, save_fig=True, save_name='p2_5e_2', title=title)"
      ],
      "execution_count": null,
      "outputs": []
    },
    {
      "cell_type": "markdown",
      "metadata": {
        "id": "7o-8VvRap27Z"
      },
      "source": [
        "Question 6"
      ]
    },
    {
      "cell_type": "markdown",
      "metadata": {
        "id": "xqT2nigEUyRO"
      },
      "source": [
        "see `algorithms.py`"
      ]
    },
    {
      "cell_type": "code",
      "metadata": {
        "id": "XJ5C6d1pp27Z"
      },
      "source": [
        "K = 2\n",
        "T = 1000\n",
        "n = 1000\n",
        "probs = [0.5, 0.6]\n",
        "sigma_square = 1./4\n",
        "b = 1\n",
        "ksi = 1.2\n",
        "c = 1\n",
        "\n",
        "bern_bandit = BernoulliBandit(K, probs)\n",
        "kl_ucb = kl_UCB(bern_bandit)"
      ],
      "execution_count": null,
      "outputs": []
    },
    {
      "cell_type": "code",
      "metadata": {
        "colab": {
          "base_uri": "https://localhost:8080/"
        },
        "id": "OI0QtbRDyaKF",
        "outputId": "d0f9deca-a125-4b8f-dacc-fe1d0cb9a0cc"
      },
      "source": [
        "kl_ucb_regrets = []\n",
        "kl_ucb_cum_regrets = np.zeros((n,T))\n",
        "for i in range(n):\n",
        "    kl_ucb.reset()\n",
        "    kl_ucb.run(T, n_run=i, ntot_run=n)\n",
        "    kl_ucb_regrets.append(kl_ucb.regret)\n",
        "    kl_ucb_cum_regrets[i] = kl_ucb.cum_regret"
      ],
      "execution_count": null,
      "outputs": [
        {
          "output_type": "stream",
          "text": [
            "run 1000/1000 | running step 1000/1000"
          ],
          "name": "stdout"
        }
      ]
    },
    {
      "cell_type": "code",
      "metadata": {
        "id": "L3DciUTMyaST"
      },
      "source": [
        "regret_dict = {\n",
        "    'UCB': [ucb_cum_regrets, '#3A6FB6'],\n",
        "    'UCB-V': [ucb_v_cum_regrets, '#413AD0'],\n",
        "    'kl-UCB': [kl_ucb_cum_regrets, '#7F41CA'],\n",
        "}"
      ],
      "execution_count": null,
      "outputs": []
    },
    {
      "cell_type": "code",
      "metadata": {
        "id": "hHixb9OgzPkf"
      },
      "source": [
        "title = 'Average cumulative regret over time ($p_1 = 0.5, p_2 = 0.6$)'\n",
        "plot_multiple_avg_regrets(regret_dict, save_fig=True, save_name='p2_6e_1', title=title)"
      ],
      "execution_count": null,
      "outputs": []
    },
    {
      "cell_type": "code",
      "metadata": {
        "id": "nKy5yf6gzAqy"
      },
      "source": [
        "probs1 = [0.1, 0.2]\n",
        "bern_bandit1 = BernoulliBandit(K, probs1)\n",
        "kl_ucb1 = kl_UCB(bern_bandit1)"
      ],
      "execution_count": null,
      "outputs": []
    },
    {
      "cell_type": "code",
      "metadata": {
        "colab": {
          "base_uri": "https://localhost:8080/"
        },
        "id": "YCFvLPqozBeE",
        "outputId": "929046ab-8ffd-4880-fc74-aa6e354b3957"
      },
      "source": [
        "kl_ucb1_regrets = []\n",
        "kl_ucb1_cum_regrets = np.zeros((n,T))\n",
        "for i in range(n):\n",
        "    kl_ucb1.reset()\n",
        "    kl_ucb1.run(T, n_run=i, ntot_run=n)\n",
        "    kl_ucb1_regrets.append(kl_ucb1.regret)\n",
        "    kl_ucb1_cum_regrets[i] = kl_ucb1.cum_regret"
      ],
      "execution_count": null,
      "outputs": [
        {
          "output_type": "stream",
          "text": [
            "run 1000/1000 | running step 1000/1000"
          ],
          "name": "stdout"
        }
      ]
    },
    {
      "cell_type": "code",
      "metadata": {
        "id": "vNBI7dmjzBoD"
      },
      "source": [
        "regret_dict1 = {\n",
        "    'UCB': [ucb1_cum_regrets, '#3A6FB6'],\n",
        "    'UCB-V': [ucb_v1_cum_regrets, '#413AD0'],\n",
        "    'kl-UCB': [kl_ucb1_cum_regrets, '#7F41CA'],\n",
        "}"
      ],
      "execution_count": null,
      "outputs": []
    },
    {
      "cell_type": "code",
      "metadata": {
        "id": "9H5zQHHHzUMH"
      },
      "source": [
        "title = 'Average cumulative regret over time ($p_1 = 0.1, p_2 = 0.2$)'\n",
        "plot_multiple_avg_regrets(regret_dict1, save_fig=True, save_name='p2_6e_2', title=title)"
      ],
      "execution_count": null,
      "outputs": []
    },
    {
      "cell_type": "code",
      "metadata": {
        "id": "3NIPcUTizUUU"
      },
      "source": [
        "probs2 = [0.0, 0.1]\n",
        "bern_bandit2 = BernoulliBandit(K, probs2)\n",
        "kl_ucb2 = kl_UCB(bern_bandit2)"
      ],
      "execution_count": null,
      "outputs": []
    },
    {
      "cell_type": "code",
      "metadata": {
        "colab": {
          "base_uri": "https://localhost:8080/"
        },
        "id": "IcnMhnp1zUhV",
        "outputId": "f965b48d-0731-4449-8da0-6791d6238a76"
      },
      "source": [
        "kl_ucb2_regrets = []\n",
        "kl_ucb2_cum_regrets = np.zeros((n,T))\n",
        "for i in range(n):\n",
        "    kl_ucb2.reset()\n",
        "    kl_ucb2.run(T, n_run=i, ntot_run=n)\n",
        "    kl_ucb2_regrets.append(kl_ucb2.regret)\n",
        "    kl_ucb2_cum_regrets[i] = kl_ucb2.cum_regret"
      ],
      "execution_count": null,
      "outputs": [
        {
          "output_type": "stream",
          "text": [
            "run 1000/1000 | running step 1000/1000"
          ],
          "name": "stdout"
        }
      ]
    },
    {
      "cell_type": "code",
      "metadata": {
        "id": "gym9snzPzUnU"
      },
      "source": [
        "regret_dict2 = {\n",
        "    'UCB': [ucb2_cum_regrets, '#3A6FB6'],\n",
        "    'UCB-V': [ucb_v2_cum_regrets, '#413AD0'],\n",
        "    'kl-UCB': [kl_ucb2_cum_regrets, '#7F41CA'],\n",
        "}"
      ],
      "execution_count": null,
      "outputs": []
    },
    {
      "cell_type": "code",
      "metadata": {
        "id": "te_fGXYlzoPf"
      },
      "source": [
        "title = 'Average cumulative regret over time ($p_1 = 0, p_2 = 0.1$)'\n",
        "plot_multiple_avg_regrets(regret_dict2, save_fig=True, save_name='p2_6e_3', title=title)"
      ],
      "execution_count": null,
      "outputs": []
    }
  ]
}