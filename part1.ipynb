{
  "nbformat": 4,
  "nbformat_minor": 0,
  "metadata": {
    "kernelspec": {
      "display_name": "Python 3",
      "language": "python",
      "name": "python3"
    },
    "language_info": {
      "codemirror_mode": {
        "name": "ipython",
        "version": 3
      },
      "file_extension": ".py",
      "mimetype": "text/x-python",
      "name": "python",
      "nbconvert_exporter": "python",
      "pygments_lexer": "ipython3",
      "version": "3.7.4"
    },
    "colab": {
      "name": "part1.ipynb",
      "provenance": [],
      "collapsed_sections": [],
      "toc_visible": true
    }
  },
  "cells": [
    {
      "cell_type": "markdown",
      "metadata": {
        "id": "ocstL3kAp22M"
      },
      "source": [
        "<center>\n",
        "<h2>\n",
        "Part 1. Rock, Paper, Scissors\n",
        "</h2>\n",
        "</center>"
      ]
    },
    {
      "cell_type": "code",
      "metadata": {
        "id": "ysUDAcNhp22Z"
      },
      "source": [
        "import numpy as np\n",
        "import matplotlib.pyplot as plt\n",
        "\n",
        "from visualization import *"
      ],
      "execution_count": null,
      "outputs": []
    },
    {
      "cell_type": "markdown",
      "metadata": {
        "id": "72DWvfpIp22c"
      },
      "source": [
        "Question 1"
      ]
    },
    {
      "cell_type": "code",
      "metadata": {
        "colab": {
          "base_uri": "https://localhost:8080/"
        },
        "id": "nhSL2-pJp22c",
        "outputId": "fd3fe453-ee77-41d2-fec3-25567fcbbce5"
      },
      "source": [
        "actions = [\"rock\", \"paper\", \"scissors\"]\n",
        "L = np.array([\n",
        "    [0, 1, -1], \n",
        "    [-1, 0, 1], \n",
        "    [1, -1, 0]\n",
        "])\n",
        "print(L)"
      ],
      "execution_count": null,
      "outputs": [
        {
          "output_type": "stream",
          "text": [
            "[[ 0  1 -1]\n",
            " [-1  0  1]\n",
            " [ 1 -1  0]]\n"
          ],
          "name": "stdout"
        }
      ]
    },
    {
      "cell_type": "markdown",
      "metadata": {
        "id": "cDhRmzWep22e"
      },
      "source": [
        "Question 2a"
      ]
    },
    {
      "cell_type": "code",
      "metadata": {
        "id": "5h84pQFup22f"
      },
      "source": [
        "def rand_weighted(prob):\n",
        "    q = np.random.rand()\n",
        "    p = np.cumsum(prob)\n",
        "    t = (p-q) >= 0\n",
        "    return np.nonzero(t)[0][0]"
      ],
      "execution_count": null,
      "outputs": []
    },
    {
      "cell_type": "markdown",
      "metadata": {
        "id": "e4_nYw8Lp22f"
      },
      "source": [
        "Question 2b"
      ]
    },
    {
      "cell_type": "code",
      "metadata": {
        "id": "3egKmMw6p22f"
      },
      "source": [
        "def EWA_update(prob, loss, eta=1):\n",
        "    num =  prob * np.exp(-eta * loss)\n",
        "    denom = np.dot(prob, np.exp(-eta * loss))\n",
        "    return num / denom"
      ],
      "execution_count": null,
      "outputs": []
    },
    {
      "cell_type": "markdown",
      "metadata": {
        "id": "S8cMTsOQp22g"
      },
      "source": [
        "Question 3a"
      ]
    },
    {
      "cell_type": "code",
      "metadata": {
        "id": "_dwNI1Gup22g"
      },
      "source": [
        "def fixed_EW(q, eta=1, T=100, n=10):\n",
        "    p1 = 1/3 * np.ones(3)\n",
        "    loss = []\n",
        "    p = []\n",
        "    regret = []\n",
        "    for sim in range(n):\n",
        "        pt = p1\n",
        "        p_in_time = [p1]\n",
        "        loss_in_time = []\n",
        "        loss_per_action = np.zeros(3)\n",
        "        regret_in_time = []\n",
        "        for t in range(1,T):\n",
        "            i_t = rand_weighted(pt)\n",
        "            j_t = rand_weighted(q)\n",
        "            loss_t = L[i_t,j_t]\n",
        "            loss_in_time.append(loss_t)\n",
        "            \n",
        "            pt = EWA_update(pt, L[:,j_t], eta)\n",
        "            p_in_time.append(pt)\n",
        "            \n",
        "            loss_per_action += L[:,j_t]\n",
        "            regret_in_time.append(sum(loss_in_time)-np.amin(loss_per_action))\n",
        "        \n",
        "        loss.append(loss_in_time)\n",
        "        p.append(p_in_time)\n",
        "        regret.append(regret_in_time)\n",
        "    return p, loss, regret"
      ],
      "execution_count": null,
      "outputs": []
    },
    {
      "cell_type": "code",
      "metadata": {
        "id": "iC9c5BN7p22g"
      },
      "source": [
        "q = [1/2, 1/4, 1/4]\n",
        "p, loss, regret = fixed_EW(q=q, n=1)"
      ],
      "execution_count": null,
      "outputs": []
    },
    {
      "cell_type": "markdown",
      "metadata": {
        "id": "uoFukdAzp22g"
      },
      "source": [
        "Question 3b"
      ]
    },
    {
      "cell_type": "code",
      "metadata": {
        "id": "3eQJcm9Rp22h"
      },
      "source": [
        "plot_p(p[0], save_fig=True, algo='fixed EWA')"
      ],
      "execution_count": null,
      "outputs": []
    },
    {
      "cell_type": "markdown",
      "metadata": {
        "id": "nIsJBqM9p22h"
      },
      "source": [
        "Question 3c"
      ]
    },
    {
      "cell_type": "code",
      "metadata": {
        "id": "0Nelr2sUWzMv"
      },
      "source": [
        "plot_loss(loss[0], save_fig=True, algo='fixed EWA')"
      ],
      "execution_count": null,
      "outputs": []
    },
    {
      "cell_type": "code",
      "metadata": {
        "id": "TparVvTNp22i"
      },
      "source": [
        "plot_avg_loss(loss[0], save_fig=True, algo='fixed EWA')"
      ],
      "execution_count": null,
      "outputs": []
    },
    {
      "cell_type": "markdown",
      "metadata": {
        "id": "6Tau1nVPp22i"
      },
      "source": [
        "Question 3d"
      ]
    },
    {
      "cell_type": "code",
      "metadata": {
        "id": "FiWbkfayp22p"
      },
      "source": [
        "plot_cumul_regret(regret[0], save_fig=True, algo='fixed EWA')"
      ],
      "execution_count": null,
      "outputs": []
    },
    {
      "cell_type": "markdown",
      "metadata": {
        "id": "FHCaMw9wp22y"
      },
      "source": [
        "Question 3e"
      ]
    },
    {
      "cell_type": "code",
      "metadata": {
        "id": "0psLnRASp22y"
      },
      "source": [
        "n = 10\n",
        "q = [1/2, 1/4, 1/4]\n",
        "p, loss, regret = fixed_EW(q=q, n=n)"
      ],
      "execution_count": null,
      "outputs": []
    },
    {
      "cell_type": "code",
      "metadata": {
        "id": "CNCavA9_dLCF"
      },
      "source": [
        "plot_avg_loss_minmax(loss, save_fig=True, algo='fixed EWA')"
      ],
      "execution_count": null,
      "outputs": []
    },
    {
      "cell_type": "markdown",
      "metadata": {
        "id": "EUBdtxfEp22z"
      },
      "source": [
        "Question 3f"
      ]
    },
    {
      "cell_type": "code",
      "metadata": {
        "id": "0bn2nLUJp22z"
      },
      "source": [
        "etas = [0.01, 0.05, 0.1, 0.5, 1]\n",
        "avg_final_regrets = []\n",
        "T = 100 \n",
        "n = 50\n",
        "\n",
        "for eta in etas:\n",
        "    _, _, regret = fixed_EW(q=q, n=n, eta=eta, T=T)\n",
        "    regret = np.array(regret)\n",
        "    final_regret = regret[:,-1]\n",
        "    avg_final_regret = np.mean(final_regret)\n",
        "    avg_final_regrets.append(avg_final_regret)\n",
        "\n",
        "print(f'theoretical best $\\eta$: {np.sqrt(np.log(3)/T):.3f}')\n",
        "print(f'empirical best $\\eta$: {etas[np.argmin(np.array(avg_final_regrets))]:.3f}')"
      ],
      "execution_count": null,
      "outputs": []
    },
    {
      "cell_type": "code",
      "metadata": {
        "id": "tpU58wP_Xo40"
      },
      "source": [
        "title = 'Average final regret as a function of $\\eta$'\n",
        "plot_final_regret_eta(etas, avg_final_regrets, color='#447639', save_fig=True, title=title, algo='fixed EWA')"
      ],
      "execution_count": null,
      "outputs": []
    },
    {
      "cell_type": "markdown",
      "metadata": {
        "id": "8G07FEaep22z"
      },
      "source": [
        "Question 4a"
      ]
    },
    {
      "cell_type": "code",
      "metadata": {
        "id": "SZAg8Ed9p22z"
      },
      "source": [
        "def adaptative_EW(eta=0.05, eta_q=0.05, T=100, n=10):\n",
        "    p_1 = 1/3 * np.ones(3)\n",
        "    q_1 = 1/3 * np.ones(3)\n",
        "    loss = []\n",
        "    p = []\n",
        "    q = []\n",
        "    regret = []\n",
        "    for sim in range(n):\n",
        "        p_t = p_1\n",
        "        q_t = q_1\n",
        "        p_in_time = [p_1]\n",
        "        q_in_time = [q_1]\n",
        "        loss_in_time = []\n",
        "        loss_per_action = np.zeros(3)\n",
        "        regret_in_time = []\n",
        "        for t in range(1,T):\n",
        "            i_t = rand_weighted(p_t)\n",
        "            j_t = rand_weighted(q_t)\n",
        "            loss_t = L[i_t,j_t]\n",
        "            loss_in_time.append(loss_t)\n",
        "            \n",
        "            p_t = EWA_update(p_t, L[:,j_t], eta)\n",
        "            p_in_time.append(p_t)\n",
        "            q_t = EWA_update(q_t, L[:,i_t], eta_q)\n",
        "            q_in_time.append(q_t)\n",
        "            \n",
        "            loss_per_action += L[:,j_t]\n",
        "            regret_in_time.append(sum(loss_in_time)-np.amin(loss_per_action))\n",
        "        \n",
        "        loss.append(loss_in_time)\n",
        "        p.append(p_in_time)\n",
        "        q.append(q_in_time)\n",
        "        regret.append(regret_in_time)\n",
        "    return p, q, loss, regret"
      ],
      "execution_count": null,
      "outputs": []
    },
    {
      "cell_type": "code",
      "metadata": {
        "id": "pse65qsCp22z"
      },
      "source": [
        "T = 100\n",
        "n = 10\n",
        "sim_idx = 0\n",
        "\n",
        "p, q, loss, regret = adaptative_EW(n=n)"
      ],
      "execution_count": null,
      "outputs": []
    },
    {
      "cell_type": "code",
      "metadata": {
        "id": "2nP51l_oTIr8"
      },
      "source": [
        "plot_p(p[sim_idx], save_fig=True, save_name='p1_4b_p', algo='adapt. EWA')"
      ],
      "execution_count": null,
      "outputs": []
    },
    {
      "cell_type": "code",
      "metadata": {
        "id": "GTIlMOJITjmB"
      },
      "source": [
        "plot_p(q[sim_idx], save_fig=True, save_name='p1_4b_q', player='q', algo='adapt. EWA')"
      ],
      "execution_count": null,
      "outputs": []
    },
    {
      "cell_type": "code",
      "metadata": {
        "id": "RPYgKSCfYK_o"
      },
      "source": [
        "plot_loss(loss[sim_idx], save_fig=True, save_name='p1_4a', algo='adapt. EWA')"
      ],
      "execution_count": null,
      "outputs": []
    },
    {
      "cell_type": "code",
      "metadata": {
        "id": "7FH9fgfaUYy4"
      },
      "source": [
        "plot_avg_loss(loss[sim_idx], save_fig=True, save_name='p1_4c', algo='adapt. EWA')"
      ],
      "execution_count": null,
      "outputs": []
    },
    {
      "cell_type": "code",
      "metadata": {
        "id": "xbDOajUcUicM"
      },
      "source": [
        "plot_cumul_regret(regret[sim_idx], save_fig=True, save_name='p1_4d', algo='adapt. EWA')"
      ],
      "execution_count": null,
      "outputs": []
    },
    {
      "cell_type": "code",
      "metadata": {
        "id": "MSK0DahPxprN"
      },
      "source": [
        "plot_avg_loss_minmax(loss, save_fig=True, save_name='p1_4e', algo='adapt. EWA')"
      ],
      "execution_count": null,
      "outputs": []
    },
    {
      "cell_type": "markdown",
      "metadata": {
        "id": "8lJRWA1lp220"
      },
      "source": [
        "Question 4b"
      ]
    },
    {
      "cell_type": "code",
      "metadata": {
        "id": "Mucv7VLyp221"
      },
      "source": [
        "T = 10000\n",
        "n = 10\n",
        "\n",
        "p, q, loss, regret = adaptative_EW(n=n, T=T)"
      ],
      "execution_count": null,
      "outputs": []
    },
    {
      "cell_type": "code",
      "metadata": {
        "id": "16nLHoF9Uy-7"
      },
      "source": [
        "tot_prob = plot_avg_p(p, save_fig=True, algo='adapt. EWA')"
      ],
      "execution_count": null,
      "outputs": []
    },
    {
      "cell_type": "code",
      "metadata": {
        "id": "xHUv1P1Mp221"
      },
      "source": [
        "plot_avg_p_in_individual_boxes(p, save_fig=True, algo='adapt. EWA')"
      ],
      "execution_count": null,
      "outputs": []
    },
    {
      "cell_type": "code",
      "metadata": {
        "id": "jXYI38USp222"
      },
      "source": [
        "plot_p_log_scale(p, save_fig=True, save_name='p1_4b_logscale_p', algo='adapt. EWA')"
      ],
      "execution_count": null,
      "outputs": []
    },
    {
      "cell_type": "code",
      "metadata": {
        "id": "8XbK_yJlyFsB"
      },
      "source": [
        "plot_p_log_scale(q, save_fig=True, save_name='p1_4b_logscale_q', algo='adapt. EWA')"
      ],
      "execution_count": null,
      "outputs": []
    },
    {
      "cell_type": "markdown",
      "metadata": {
        "id": "j1hWlZw6p222"
      },
      "source": [
        "say a few words on the fact that p_t does seem to converge towards (1/3, 1/3, 1/3), which is the only Nash equilibrium of this 2-player game (is it?)"
      ]
    },
    {
      "cell_type": "markdown",
      "metadata": {
        "id": "00NAHUr_p222"
      },
      "source": [
        "Question 5a"
      ]
    },
    {
      "cell_type": "code",
      "metadata": {
        "id": "pB68qhFip223",
        "colab": {
          "base_uri": "https://localhost:8080/"
        },
        "outputId": "84219137-0492-4b2a-c2dd-7aaf25a47649"
      },
      "source": [
        "L = np.array([\n",
        "    [0.5, 1, 0], \n",
        "    [0, 0.5, 1], \n",
        "    [1, 0, 0.5]\n",
        "])\n",
        "print(L)"
      ],
      "execution_count": null,
      "outputs": [
        {
          "output_type": "stream",
          "text": [
            "[[0.5 1.  0. ]\n",
            " [0.  0.5 1. ]\n",
            " [1.  0.  0.5]]\n"
          ],
          "name": "stdout"
        }
      ]
    },
    {
      "cell_type": "code",
      "metadata": {
        "id": "moUO8_TNp223"
      },
      "source": [
        "def estimated_loss(p_t, i_t, Lij_t):\n",
        "    M = len(p_t)\n",
        "    e_loss = np.zeros(M)\n",
        "    e_loss[i_t] = Lij_t / (p_t[i_t] + 1e-10)\n",
        "    return e_loss"
      ],
      "execution_count": null,
      "outputs": []
    },
    {
      "cell_type": "markdown",
      "metadata": {
        "id": "PKM5hQbXp223"
      },
      "source": [
        "Question 5b"
      ]
    },
    {
      "cell_type": "code",
      "metadata": {
        "id": "o0sphUonp223"
      },
      "source": [
        "def EXP3_update(p_t, i_t, Lij_t, eta=1):\n",
        "    g_t = estimated_loss(p_t, i_t, Lij_t)\n",
        "    num =  p_t * np.exp(-eta * g_t)\n",
        "    denom = np.dot(p_t, np.exp(-eta * g_t))\n",
        "    return num / (denom + 1e-10)"
      ],
      "execution_count": null,
      "outputs": []
    },
    {
      "cell_type": "markdown",
      "metadata": {
        "id": "E499B8AWp223"
      },
      "source": [
        "Question 6"
      ]
    },
    {
      "cell_type": "code",
      "metadata": {
        "id": "yxKOOdHSp223"
      },
      "source": [
        "def fixed_EXP3(q, eta=1, T=100, n=10):\n",
        "    p_1 = 1/3 * np.ones(3)\n",
        "    loss = []\n",
        "    p = []\n",
        "    regret = []\n",
        "    for sim in range(n):\n",
        "        p_t = p_1\n",
        "        p_in_time = [p_1]\n",
        "        loss_in_time = []\n",
        "        loss_per_action = np.zeros(3)\n",
        "        regret_in_time = []\n",
        "        for t in range(1,T):\n",
        "            i_t = rand_weighted(p_t)\n",
        "            j_t = rand_weighted(q)\n",
        "            loss_t = L[i_t,j_t]\n",
        "            loss_in_time.append(loss_t)\n",
        "            \n",
        "            p_t = EXP3_update(p_t, i_t, L[i_t,j_t], eta)\n",
        "            p_in_time.append(p_t)\n",
        "            \n",
        "            loss_per_action += L[:,j_t]\n",
        "            regret_in_time.append(sum(loss_in_time)-np.amin(loss_per_action))\n",
        "        \n",
        "        loss.append(loss_in_time)\n",
        "        p.append(p_in_time)\n",
        "        regret.append(regret_in_time)\n",
        "    return p, loss, regret"
      ],
      "execution_count": null,
      "outputs": []
    },
    {
      "cell_type": "code",
      "metadata": {
        "id": "sRdOe36hp224"
      },
      "source": [
        "q = [1/2, 1/4, 1/4]\n",
        "p, loss, regret = fixed_EXP3(q=q, n=1)"
      ],
      "execution_count": null,
      "outputs": []
    },
    {
      "cell_type": "code",
      "metadata": {
        "id": "h-JwcHYMp224"
      },
      "source": [
        "plot_p(p[0], save_fig=True, save_name='p1_6b', algo='fixed EXP3')"
      ],
      "execution_count": null,
      "outputs": []
    },
    {
      "cell_type": "code",
      "metadata": {
        "id": "uf33167Sp224"
      },
      "source": [
        "plot_loss(loss[0], save_fig=True, save_name='p1_6a', algo='fixed EXP3')"
      ],
      "execution_count": null,
      "outputs": []
    },
    {
      "cell_type": "code",
      "metadata": {
        "id": "MFuKB8WobJ9W"
      },
      "source": [
        "plot_avg_loss(loss[0], save_fig=True, save_name='p1_6c', algo='fixed EXP3')"
      ],
      "execution_count": null,
      "outputs": []
    },
    {
      "cell_type": "code",
      "metadata": {
        "id": "s1SjCWkop225"
      },
      "source": [
        "plot_cumul_regret(regret[0], save_fig=True, save_name='p1_6d', algo='fixed EXP3')"
      ],
      "execution_count": null,
      "outputs": []
    },
    {
      "cell_type": "code",
      "metadata": {
        "id": "IhATtdWFp225"
      },
      "source": [
        "n = 10\n",
        "q = [1/2, 1/4, 1/4]\n",
        "p, loss, regret = fixed_EXP3(q=q, n=n)"
      ],
      "execution_count": null,
      "outputs": []
    },
    {
      "cell_type": "code",
      "metadata": {
        "id": "rkq62Y_ndOhc"
      },
      "source": [
        "plot_avg_loss_minmax(loss, save_fig=True, save_name='p1_6e', algo='fixed EXP3')"
      ],
      "execution_count": null,
      "outputs": []
    },
    {
      "cell_type": "code",
      "metadata": {
        "id": "XUD25Z2ep225"
      },
      "source": [
        "etas = [0.01, 0.05, 0.1, 0.5, 1]\n",
        "avg_final_regrets = []\n",
        "T = 100 \n",
        "n = 50\n",
        "\n",
        "for eta in etas:\n",
        "    _, _, regret = fixed_EXP3(q=q, n=n, eta=eta, T=T)\n",
        "    regret = np.array(regret)\n",
        "    final_regret = regret[:,-1]\n",
        "    avg_final_regret = np.mean(final_regret)\n",
        "    avg_final_regrets.append(avg_final_regret)\n",
        "\n",
        "print(f'theoretical best $\\eta$: {np.sqrt(np.log(3)/T):.3f}')\n",
        "print(f'empirical best $\\eta$: {etas[np.argmin(np.array(avg_final_regrets))]:.3f}')"
      ],
      "execution_count": null,
      "outputs": []
    },
    {
      "cell_type": "code",
      "metadata": {
        "id": "beZTmF8Tc1f2"
      },
      "source": [
        "title = 'Average final regret as a function of $\\eta$'\n",
        "plot_final_regret_eta(etas, avg_final_regrets, color='#73942B', save_fig=True, save_name='p1_6f', title=title, algo='fixed EWA')"
      ],
      "execution_count": null,
      "outputs": []
    },
    {
      "cell_type": "markdown",
      "metadata": {
        "id": "Ih0McG0mp225"
      },
      "source": [
        "Question 7"
      ]
    },
    {
      "cell_type": "code",
      "metadata": {
        "id": "qPqMoFhHp226"
      },
      "source": [
        "def adaptative_EXP3(eta=0.05, eta_q=0.05, T=100, n=10):\n",
        "    p_1 = 1/3 * np.ones(3)\n",
        "    q_1 = 1/3 * np.ones(3)\n",
        "    loss = []\n",
        "    p = []\n",
        "    q = []\n",
        "    regret = []\n",
        "    for sim in range(n):\n",
        "        p_t = p_1\n",
        "        q_t = q_1\n",
        "        p_in_time = [p_1]\n",
        "        q_in_time = [q_1]\n",
        "        loss_in_time = []\n",
        "        loss_per_action = np.zeros(3)\n",
        "        regret_in_time = []\n",
        "        for t in range(T):\n",
        "            i_t = rand_weighted(p_t)\n",
        "            j_t = rand_weighted(q_t)\n",
        "            loss_t = L[i_t,j_t]\n",
        "            loss_in_time.append(loss_t)\n",
        "            \n",
        "            p_t = EXP3_update(p_t, i_t, L[i_t,j_t], eta)\n",
        "            p_in_time.append(p_t)\n",
        "            q_t = EXP3_update(q_t, j_t, L[j_t,i_t], eta_q)\n",
        "            q_in_time.append(q_t)\n",
        "            \n",
        "            loss_per_action += L[:,j_t]\n",
        "            regret_in_time.append(sum(loss_in_time)-np.amin(loss_per_action))\n",
        "        \n",
        "        loss.append(loss_in_time)\n",
        "        p.append(p_in_time)\n",
        "        q.append(q_in_time)\n",
        "        regret.append(regret_in_time)\n",
        "    return p, q, loss, regret"
      ],
      "execution_count": null,
      "outputs": []
    },
    {
      "cell_type": "code",
      "metadata": {
        "id": "FVBFmWQpp226"
      },
      "source": [
        "T = 100\n",
        "n = 10\n",
        "\n",
        "p, q, loss, regret = adaptative_EXP3(n=n)"
      ],
      "execution_count": null,
      "outputs": []
    },
    {
      "cell_type": "code",
      "metadata": {
        "id": "2mD2EgfscuA9"
      },
      "source": [
        "plot_avg_loss_minmax(loss, save_fig=True, save_name='p1_7e', algo='adapt. EXP3')"
      ],
      "execution_count": null,
      "outputs": []
    },
    {
      "cell_type": "code",
      "metadata": {
        "id": "FeK14j6Pp226"
      },
      "source": [
        "T = 10000\n",
        "n = 10\n",
        "\n",
        "p, q, loss, regret = adaptative_EXP3(n=n, T=T)"
      ],
      "execution_count": null,
      "outputs": []
    },
    {
      "cell_type": "code",
      "metadata": {
        "id": "iBpdJ9aQcl5F"
      },
      "source": [
        "plot_avg_p(p, save_fig=True, save_name='p1_7b_avg', algo='adapt. EXP3')"
      ],
      "execution_count": null,
      "outputs": []
    },
    {
      "cell_type": "code",
      "metadata": {
        "id": "jM9qAtjhp226"
      },
      "source": [
        "plot_avg_p_in_individual_boxes(p, save_fig=True, save_name='p1_7b_indiv', algo='adapt. EXP3')"
      ],
      "execution_count": null,
      "outputs": []
    },
    {
      "cell_type": "code",
      "metadata": {
        "id": "6TEb2k3op226"
      },
      "source": [
        "plot_p_log_scale(p, save_fig=True, save_name='p1_7b_logscale_p', algo='adapt. EXP3')"
      ],
      "execution_count": null,
      "outputs": []
    },
    {
      "cell_type": "code",
      "metadata": {
        "id": "tM7vmaFF0nJk"
      },
      "source": [
        "plot_p_log_scale(q, save_fig=True, save_name='p1_7b_logscale_q', player='q', algo='adapt. EXP3')"
      ],
      "execution_count": null,
      "outputs": []
    },
    {
      "cell_type": "markdown",
      "metadata": {
        "id": "2YjyUgfrp226"
      },
      "source": [
        "Question 8 (**optional**)"
      ]
    },
    {
      "cell_type": "code",
      "metadata": {
        "id": "D17wGRw-OvjG"
      },
      "source": [
        "K = 3\n",
        "T = 100\n",
        "n = 1000\n",
        "sigma_square = 1./4"
      ],
      "execution_count": null,
      "outputs": []
    },
    {
      "cell_type": "code",
      "metadata": {
        "id": "jemiNa4Bp227"
      },
      "source": [
        "def EXP3_vs_UCB(eta=0.05, eta_q=0.05, T=100, n=10):\n",
        "    p_1 = 1/3 * np.ones(3)\n",
        "    # q_1 = 1/3 * np.ones(3)\n",
        "    bern_bandit = BernoulliBandit(K)\n",
        "    ucb_custom = UCB(bern_bandit, sigma_square)\n",
        "    loss = []\n",
        "    p = []\n",
        "    q = []\n",
        "    exp3_regret = np.zeros((n,T))\n",
        "    ucb_custom_regret = np.zeros((n,T))\n",
        "    for sim in range(n):\n",
        "        p_t = p_1\n",
        "        p_in_time = [p_1]\n",
        "        bern_bandit = BernoulliBandit(K)\n",
        "        ucb_custom = UCB(bern_bandit, sigma_square)\n",
        "        loss_in_time = []\n",
        "        loss_per_action = np.zeros(3)\n",
        "        exp3_regret_in_time = []\n",
        "        ucb_custom_regret_in_time = []\n",
        "        for t in range(T):\n",
        "            i_t = rand_weighted(p_t)\n",
        "            j_t = ucb_custom.select_next_arm()\n",
        "            loss_t = L[i_t,j_t]\n",
        "            loss_in_time.append(loss_t)\n",
        "            # update count\n",
        "            ucb_custom.counts[j_t] += 1\n",
        "            # update reward\n",
        "            ucb_custom.reward = -loss_t\n",
        "            ucb_custom.rewards[j_t] += ucb_custom.reward\n",
        "            # update estimate\n",
        "            ucb_custom.mean_estimates[j_t] += 1 / ucb_custom.counts[j_t] * (ucb_custom.reward - ucb_custom.mean_estimates[j_t])\n",
        "            # update regret\n",
        "            ucb_custom.regret += ucb_custom.bandit.best_prob - ucb_custom.bandit.probs[j_t]\n",
        "            ucb_custom.cum_regret.append(ucb_custom.regret)\n",
        "            \n",
        "            p_t = EXP3_update(p_t, i_t, L[i_t,j_t], eta)\n",
        "            p_in_time.append(p_t)\n",
        "            \n",
        "            loss_per_action += L[:,j_t]\n",
        "            exp3_regret_in_time.append(sum(loss_in_time)-np.amin(loss_per_action))\n",
        "            ucb_custom_regret_in_time.append(ucb_custom.regret)\n",
        "        \n",
        "        loss.append(loss_in_time)\n",
        "        p.append(p_in_time)\n",
        "        exp3_regret[sim] = exp3_regret_in_time\n",
        "        ucb_custom_regret[sim] = ucb_custom_regret_in_time\n",
        "    return p, loss, exp3_regret, ucb_custom_regret"
      ],
      "execution_count": null,
      "outputs": []
    },
    {
      "cell_type": "code",
      "metadata": {
        "id": "7NUeqvMtesNa"
      },
      "source": [
        "T = 1000\n",
        "n = 1000\n",
        "\n",
        "p, loss, exp3_regret, ucb_custom_regret = EXP3_vs_UCB(n=n, T=T)"
      ],
      "execution_count": null,
      "outputs": []
    },
    {
      "cell_type": "code",
      "metadata": {
        "id": "S0m4hr2IfYtd"
      },
      "source": [
        "regret_dict = {\n",
        "    'EXP3': [exp3_regret, '#CB4335'],\n",
        "    'UCB': [ucb_custom_regret, '#3A6FB6']\n",
        "}"
      ],
      "execution_count": null,
      "outputs": []
    },
    {
      "cell_type": "code",
      "metadata": {
        "id": "kA_1yj8UfTAN"
      },
      "source": [
        "title = 'Average cumulative regret over time (EXP3 vs. UCB)'\n",
        "plot_multiple_avg_regrets(regret_dict, save_fig=True, save_name='p2_2g_exp3_vs_ucb', title=title)"
      ],
      "execution_count": null,
      "outputs": []
    },
    {
      "cell_type": "code",
      "metadata": {
        "id": "oCQRBJq6mUtq"
      },
      "source": [
        "plot_avg_loss(np.mean(loss, axis=0), save_fig=True, save_name='p1_8_loss_avg', algo='(EXP3 vs. UCB)')"
      ],
      "execution_count": null,
      "outputs": []
    },
    {
      "cell_type": "markdown",
      "metadata": {
        "id": "p3W1CJ53p227"
      },
      "source": [
        "Question 9 (**optional**)"
      ]
    },
    {
      "cell_type": "code",
      "metadata": {
        "id": "VFKRe447p227"
      },
      "source": [
        ""
      ],
      "execution_count": null,
      "outputs": []
    },
    {
      "cell_type": "markdown",
      "metadata": {
        "id": "0YCsTTJ3p227"
      },
      "source": [
        "Question 10 (**optional**)"
      ]
    },
    {
      "cell_type": "code",
      "metadata": {
        "id": "O6-dPmDjp227"
      },
      "source": [
        ""
      ],
      "execution_count": null,
      "outputs": []
    }
  ]
}